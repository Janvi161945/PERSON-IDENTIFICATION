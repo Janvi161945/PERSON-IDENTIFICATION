{
 "cells": [
  {
   "cell_type": "code",
   "execution_count": 1,
   "id": "fc12444c",
   "metadata": {
    "execution": {
     "iopub.execute_input": "2021-07-11T18:11:35.035289Z",
     "iopub.status.busy": "2021-07-11T18:11:35.034067Z",
     "iopub.status.idle": "2021-07-11T18:11:35.354494Z",
     "shell.execute_reply": "2021-07-11T18:11:35.353764Z",
     "shell.execute_reply.started": "2021-07-11T18:08:28.581163Z"
    },
    "papermill": {
     "duration": 0.333826,
     "end_time": "2021-07-11T18:11:35.354712",
     "exception": false,
     "start_time": "2021-07-11T18:11:35.020886",
     "status": "completed"
    },
    "tags": []
   },
   "outputs": [],
   "source": [
    "import os\n",
    "import cv2\n",
    "import shutil"
   ]
  },
  {
   "cell_type": "code",
   "execution_count": 2,
   "id": "7b092b0c",
   "metadata": {
    "execution": {
     "iopub.execute_input": "2021-07-11T18:11:35.378836Z",
     "iopub.status.busy": "2021-07-11T18:11:35.378176Z",
     "iopub.status.idle": "2021-07-11T18:11:35.656037Z",
     "shell.execute_reply": "2021-07-11T18:11:35.654837Z",
     "shell.execute_reply.started": "2021-07-11T18:10:09.132752Z"
    },
    "papermill": {
     "duration": 0.291892,
     "end_time": "2021-07-11T18:11:35.656213",
     "exception": false,
     "start_time": "2021-07-11T18:11:35.364321",
     "status": "completed"
    },
    "tags": []
   },
   "outputs": [],
   "source": [
    "ROOT = \"../input/face-recognition-dataset/Face Data/Face Dataset\"\n",
    "cascade_path = \"../input/haar-cascades-for-face-detection/haarcascade_frontalface_default.xml\"\n",
    "\n",
    "cascade_model = cv2.CascadeClassifier(cascade_path)\n",
    "folders = sorted(os.listdir(ROOT))"
   ]
  },
  {
   "cell_type": "code",
   "execution_count": 3,
   "id": "067bf956",
   "metadata": {
    "execution": {
     "iopub.execute_input": "2021-07-11T18:11:35.679391Z",
     "iopub.status.busy": "2021-07-11T18:11:35.678439Z",
     "iopub.status.idle": "2021-07-11T18:11:35.681936Z",
     "shell.execute_reply": "2021-07-11T18:11:35.681386Z",
     "shell.execute_reply.started": "2021-07-11T18:08:28.963128Z"
    },
    "papermill": {
     "duration": 0.018298,
     "end_time": "2021-07-11T18:11:35.682091",
     "exception": false,
     "start_time": "2021-07-11T18:11:35.663793",
     "status": "completed"
    },
    "tags": []
   },
   "outputs": [],
   "source": [
    "def extract_face(image):\n",
    "    \"\"\" Gets the face from the image passed using Haar-Cascade \"\"\"\n",
    "    \n",
    "    global cascade_model\n",
    "    \n",
    "    # Getting co-ordinates of the face\n",
    "    gray = cv2.cvtColor(image, cv2.COLOR_BGR2GRAY)\n",
    "    faces = cascade_model.detectMultiScale(\n",
    "        gray,\n",
    "        scaleFactor=1.4,\n",
    "        minNeighbors=5,\n",
    "        minSize=(32, 32)\n",
    "    )\n",
    "    \n",
    "    # Extracts the face from the image and returns it\n",
    "    if len(faces)>0:\n",
    "        x,y,w,h = faces[-1]\n",
    "        image = image[y:y+h,x:x+w]\n",
    "        return image\n",
    "    return None"
   ]
  },
  {
   "cell_type": "code",
   "execution_count": 4,
   "id": "5242969c",
   "metadata": {
    "execution": {
     "iopub.execute_input": "2021-07-11T18:11:35.703067Z",
     "iopub.status.busy": "2021-07-11T18:11:35.702153Z",
     "iopub.status.idle": "2021-07-11T18:11:35.705336Z",
     "shell.execute_reply": "2021-07-11T18:11:35.704732Z",
     "shell.execute_reply.started": "2021-07-11T18:08:28.975116Z"
    },
    "papermill": {
     "duration": 0.016145,
     "end_time": "2021-07-11T18:11:35.705465",
     "exception": false,
     "start_time": "2021-07-11T18:11:35.689320",
     "status": "completed"
    },
    "tags": []
   },
   "outputs": [],
   "source": [
    "def save_image(path, image):\n",
    "    \"\"\" Saves the Image to the path specified \"\"\"\n",
    "    \n",
    "    # Creating directory\n",
    "    directory = os.path.dirname(path)\n",
    "    if not os.path.exists(directory):\n",
    "        os.makedirs(directory)\n",
    "        \n",
    "    # Saving the image\n",
    "    image = cv2.cvtColor(image, cv2.COLOR_RGB2BGR)\n",
    "    image = cv2.resize(image, (128, 128))\n",
    "    cv2.imwrite(path, image)"
   ]
  },
  {
   "cell_type": "code",
   "execution_count": 5,
   "id": "4437dcbe",
   "metadata": {
    "execution": {
     "iopub.execute_input": "2021-07-11T18:11:35.726789Z",
     "iopub.status.busy": "2021-07-11T18:11:35.726098Z",
     "iopub.status.idle": "2021-07-11T18:13:26.002637Z",
     "shell.execute_reply": "2021-07-11T18:13:26.001561Z",
     "shell.execute_reply.started": "2021-07-11T18:10:54.911543Z"
    },
    "papermill": {
     "duration": 110.290335,
     "end_time": "2021-07-11T18:13:26.002822",
     "exception": false,
     "start_time": "2021-07-11T18:11:35.712487",
     "status": "completed"
    },
    "tags": []
   },
   "outputs": [],
   "source": [
    "for folder in folders:\n",
    "    # Gets list of all files in the folder\n",
    "    files = os.listdir(os.path.join(ROOT, folder))\n",
    "    \n",
    "    num_files = 0\n",
    "    for file in files:\n",
    "        # Reads the image and extracts face\n",
    "        path = os.path.join(ROOT, folder, file)\n",
    "        image = cv2.cvtColor(cv2.imread(path), cv2.COLOR_BGR2RGB)\n",
    "        face = extract_face(image)\n",
    "        \n",
    "        # Saves the face\n",
    "        if not face is None:\n",
    "            save_path = os.path.join(\"Extracted Faces\", folder, f\"{num_files}.jpg\")\n",
    "            save_image(save_path, face)\n",
    "            num_files += 1"
   ]
  },
  {
   "cell_type": "code",
   "execution_count": 6,
   "id": "82ff0c57",
   "metadata": {
    "execution": {
     "iopub.execute_input": "2021-07-11T18:13:26.025229Z",
     "iopub.status.busy": "2021-07-11T18:13:26.023875Z",
     "iopub.status.idle": "2021-07-11T18:13:26.086805Z",
     "shell.execute_reply": "2021-07-11T18:13:26.087398Z",
     "shell.execute_reply.started": "2021-07-11T17:35:22.982372Z"
    },
    "papermill": {
     "duration": 0.077275,
     "end_time": "2021-07-11T18:13:26.087738",
     "exception": false,
     "start_time": "2021-07-11T18:13:26.010463",
     "status": "completed"
    },
    "tags": []
   },
   "outputs": [],
   "source": [
    "# Removes folders with less that 2 files\n",
    "for folder in os.listdir(\"Extracted Faces\"):\n",
    "    path = os.path.join(\"Extracted Faces\", folder)\n",
    "    files = os.listdir(path)\n",
    "    if len(files)<2:\n",
    "        shutil.rmtree(path)"
   ]
  },
  {
   "cell_type": "code",
   "execution_count": null,
   "id": "5fb663f2",
   "metadata": {
    "execution": {
     "iopub.execute_input": "2021-07-11T12:42:36.315498Z",
     "iopub.status.busy": "2021-07-11T12:42:36.315087Z",
     "iopub.status.idle": "2021-07-11T12:42:36.335549Z",
     "shell.execute_reply": "2021-07-11T12:42:36.334375Z",
     "shell.execute_reply.started": "2021-07-11T12:42:36.315469Z"
    },
    "papermill": {
     "duration": null,
     "end_time": null,
     "exception": false,
     "start_time": "2021-07-11T18:13:26.095504",
     "status": "running"
    },
    "tags": []
   },
   "outputs": [],
   "source": [
    "shutil.make_archive(\"Extracted Faces\",'zip')"
   ]
  }
 ],
 "metadata": {
  "kernelspec": {
   "display_name": "Python 3.9.6 64-bit",
   "language": "python",
   "name": "python3"
  },
  "language_info": {
   "codemirror_mode": {
    "name": "ipython",
    "version": 3
   },
   "file_extension": ".py",
   "mimetype": "text/x-python",
   "name": "python",
   "nbconvert_exporter": "python",
   "pygments_lexer": "ipython3",
   "version": "3.9.6"
  },
  "papermill": {
   "default_parameters": {},
   "duration": null,
   "end_time": null,
   "environment_variables": {},
   "exception": null,
   "input_path": "__notebook__.ipynb",
   "output_path": "__notebook__.ipynb",
   "parameters": {},
   "start_time": "2021-07-11T18:11:25.769155",
   "version": "2.3.3"
  },
  "vscode": {
   "interpreter": {
    "hash": "1b9275b683155e331f325b8539849d347bdb067507a9adf445283013e7a9a75c"
   }
  }
 },
 "nbformat": 4,
 "nbformat_minor": 5
}
